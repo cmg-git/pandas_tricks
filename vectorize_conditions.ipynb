{
 "cells": [
  {
   "cell_type": "markdown",
   "id": "df251800-1525-4871-8364-b286465c6ce4",
   "metadata": {},
   "source": [
    "# Making Pandas faster by vectorization"
   ]
  },
  {
   "cell_type": "markdown",
   "id": "90bde232-50bc-4e8b-96f8-fba8bc2939a8",
   "metadata": {},
   "source": [
    "Based on [Rob Mulla (2022) Make Your Pandas Code Lightning Fast](https://youtu.be/SAFmrTnEHLg).\n",
    "\n",
    "## Problem:\n",
    "\n",
    "Apply a logical condition across every row of a DataFrame.\n",
    "Assign values to the column based on the logical value of the condition.\n",
    "\n",
    "**Solutions:**\n",
    "\n",
    "*Solution 1 **Looping:***\n",
    "\n",
    "- Define a function with the logic for the condition for each row.\n",
    "- Loop over each row of the DataFrame, apply the condition to obtain the logical value and assign a value to a cell of the DataFraame based on the logical value of the condition.\n",
    "\n",
    "*Solution 2: **Vectorization:***\n",
    "- Apply the logical conditions to the whole DataFrame.\n",
    "- Assign values from a Series to a column if the condition is satisfied.\n",
    "\n",
    "\n",
    "## Example\n",
    "\n",
    "The problem:\n",
    "\n",
    "Given a population for which each person has the characteristics:\n",
    "`age`, `time_in_bed`, `percent_sleeping`, `favorite_food`,`hate_food`\n",
    "\n",
    "create a new column, named `reward`, with their `favorite food` or `hate food` in function of the logical value of the `condition`.\n",
    "\n",
    "Condition for reward:\n",
    "- If a person is in bed for more than 1 hour and if the person slept more than 10 %, give the favorite food to the person; otherwise, give the hate food to the person.\n",
    "\n",
    "- If the person is over 90 years old, give the favorite food to the person.\n",
    "\n",
    "The condition for reward is equivalent to:\n",
    "\n",
    "    IF  (they were in bed for more than 1 hour\n",
    "         AND if they slept for more than 10 %)\n",
    "    OR\n",
    "        if they are over 90 years old,\n",
    "    THEN\n",
    "        give them their favorite food.\n",
    "    ELSE\n",
    "        give them their hate food."
   ]
  },
  {
   "cell_type": "code",
   "execution_count": 1,
   "id": "95336bf2-b1d1-4e2f-bbff-9b573b7d69c3",
   "metadata": {},
   "outputs": [],
   "source": [
    "import numpy as np\n",
    "import pandas as pd\n",
    "\n",
    "size = 10_000   # n° of samples in the DataFrame"
   ]
  },
  {
   "cell_type": "markdown",
   "id": "8251551a-79d4-4d15-92f5-d8a0a116041c",
   "metadata": {},
   "source": [
    "## Generate DataFrame\n",
    "\n",
    "Give random values to the elements of the DataFrame. "
   ]
  },
  {
   "cell_type": "code",
   "execution_count": 2,
   "id": "51f71428-7a59-4c85-9fe9-495a20bc4c0b",
   "metadata": {},
   "outputs": [],
   "source": [
    "def generate_data(size=10_000):\n",
    "    df = pd.DataFrame()\n",
    "    df['age'] = np.random.randint(0, 100, size)\n",
    "    df['time_in_bed'] = np.random.randint(0, 9, size)\n",
    "    df['percent_sleeping'] = np.random.rand(size)\n",
    "    df['favorite_food'] = np.random.choice(\n",
    "        ['+pizza', '+tacos', '+ice-cream'], size)\n",
    "    df['hate_food'] = np.random.choice(\n",
    "        ['-broccoli', '-potato', '-eggs'], size)\n",
    "    return(df)"
   ]
  },
  {
   "cell_type": "code",
   "execution_count": 3,
   "id": "062282ae-b259-4b96-9679-7e78e6cdaa72",
   "metadata": {},
   "outputs": [],
   "source": [
    "df = generate_data(size)"
   ]
  },
  {
   "cell_type": "markdown",
   "id": "ae7c326f-7cdd-4a5f-9aeb-9d34bf434fd3",
   "metadata": {},
   "source": [
    "## Solution 1: Looping\n",
    "\n",
    "Create a function for the condition to reward each person. The function gets the data for a person and returns `favorite_food` or `hate_food` based on the logical value of the `condition`."
   ]
  },
  {
   "cell_type": "code",
   "execution_count": 4,
   "id": "bdb18781-1ca6-4360-8f54-e7dd7d90e41a",
   "metadata": {},
   "outputs": [],
   "source": [
    "def reward(person):\n",
    "    condition = ((person['time_in_bed'] > 1\n",
    "                  ) and (person['percent_sleeping'] > 0.1)\n",
    "                 ) or person['age'] >= 90\n",
    "    if condition:\n",
    "        return person['favorite_food']\n",
    "    else:\n",
    "        return person['hate_food']"
   ]
  },
  {
   "cell_type": "code",
   "execution_count": 5,
   "id": "0b754d42-b61f-4f48-a78b-f8a90715a814",
   "metadata": {},
   "outputs": [],
   "source": [
    "df_loop = df"
   ]
  },
  {
   "cell_type": "markdown",
   "id": "04d19295-7647-46ef-a195-bd90a93318e7",
   "metadata": {},
   "source": [
    "Loop over each row of the DataFrame and apply the condition given in the function.\n",
    "\n",
    "For each row, assign the result to a cell of the DataFrame.\n",
    "\n",
    "Time the duration needed to run the code."
   ]
  },
  {
   "cell_type": "code",
   "execution_count": 6,
   "id": "b6835491-7aef-461a-8f41-8fb96096dd13",
   "metadata": {},
   "outputs": [
    {
     "name": "stdout",
     "output_type": "stream",
     "text": [
      "2.82 s ± 63.4 ms per loop (mean ± std. dev. of 7 runs, 1 loop each)\n"
     ]
    }
   ],
   "source": [
    "%%timeit\n",
    "for index, person in df_loop.iterrows():\n",
    "    df_loop.loc[index, 'reward'] = reward(person)"
   ]
  },
  {
   "cell_type": "code",
   "execution_count": 7,
   "id": "92c484a9-ed60-4c85-ad99-432b17c889a8",
   "metadata": {},
   "outputs": [
    {
     "data": {
      "text/html": [
       "<div>\n",
       "<style scoped>\n",
       "    .dataframe tbody tr th:only-of-type {\n",
       "        vertical-align: middle;\n",
       "    }\n",
       "\n",
       "    .dataframe tbody tr th {\n",
       "        vertical-align: top;\n",
       "    }\n",
       "\n",
       "    .dataframe thead th {\n",
       "        text-align: right;\n",
       "    }\n",
       "</style>\n",
       "<table border=\"1\" class=\"dataframe\">\n",
       "  <thead>\n",
       "    <tr style=\"text-align: right;\">\n",
       "      <th></th>\n",
       "      <th>age</th>\n",
       "      <th>time_in_bed</th>\n",
       "      <th>percent_sleeping</th>\n",
       "      <th>favorite_food</th>\n",
       "      <th>hate_food</th>\n",
       "      <th>reward</th>\n",
       "    </tr>\n",
       "  </thead>\n",
       "  <tbody>\n",
       "    <tr>\n",
       "      <th>0</th>\n",
       "      <td>73</td>\n",
       "      <td>2</td>\n",
       "      <td>0.297605</td>\n",
       "      <td>+tacos</td>\n",
       "      <td>-broccoli</td>\n",
       "      <td>+tacos</td>\n",
       "    </tr>\n",
       "    <tr>\n",
       "      <th>1</th>\n",
       "      <td>54</td>\n",
       "      <td>5</td>\n",
       "      <td>0.310736</td>\n",
       "      <td>+ice-cream</td>\n",
       "      <td>-potato</td>\n",
       "      <td>+ice-cream</td>\n",
       "    </tr>\n",
       "    <tr>\n",
       "      <th>2</th>\n",
       "      <td>61</td>\n",
       "      <td>4</td>\n",
       "      <td>0.700914</td>\n",
       "      <td>+pizza</td>\n",
       "      <td>-eggs</td>\n",
       "      <td>+pizza</td>\n",
       "    </tr>\n",
       "    <tr>\n",
       "      <th>3</th>\n",
       "      <td>99</td>\n",
       "      <td>4</td>\n",
       "      <td>0.327881</td>\n",
       "      <td>+tacos</td>\n",
       "      <td>-potato</td>\n",
       "      <td>+tacos</td>\n",
       "    </tr>\n",
       "    <tr>\n",
       "      <th>4</th>\n",
       "      <td>52</td>\n",
       "      <td>5</td>\n",
       "      <td>0.641889</td>\n",
       "      <td>+ice-cream</td>\n",
       "      <td>-potato</td>\n",
       "      <td>+ice-cream</td>\n",
       "    </tr>\n",
       "  </tbody>\n",
       "</table>\n",
       "</div>"
      ],
      "text/plain": [
       "   age  time_in_bed  percent_sleeping favorite_food  hate_food      reward\n",
       "0   73            2          0.297605        +tacos  -broccoli      +tacos\n",
       "1   54            5          0.310736    +ice-cream    -potato  +ice-cream\n",
       "2   61            4          0.700914        +pizza      -eggs      +pizza\n",
       "3   99            4          0.327881        +tacos    -potato      +tacos\n",
       "4   52            5          0.641889    +ice-cream    -potato  +ice-cream"
      ]
     },
     "execution_count": 7,
     "metadata": {},
     "output_type": "execute_result"
    }
   ],
   "source": [
    "df_loop.head()"
   ]
  },
  {
   "cell_type": "markdown",
   "id": "c00cd6db-cd51-4aa8-8746-746ae4bb81f0",
   "metadata": {},
   "source": [
    "## Solution 2: Vectorization\n",
    "\n",
    "Instead of looping over each row,\n",
    "apply the logical conditions to the whole DataFrame.\n",
    "\n",
    "Then, assign to the column `reward` the values from a Series if the `condition` is satisfied.\n",
    "\n",
    "Time the duration needed to run the code."
   ]
  },
  {
   "cell_type": "code",
   "execution_count": 8,
   "id": "69cc2f6f-d129-4407-a671-a92602346131",
   "metadata": {},
   "outputs": [],
   "source": [
    "df_vector = df"
   ]
  },
  {
   "cell_type": "code",
   "execution_count": 9,
   "id": "fcdf1a72-6057-479c-933f-2eeee02ebccd",
   "metadata": {},
   "outputs": [
    {
     "name": "stdout",
     "output_type": "stream",
     "text": [
      "1.53 ms ± 103 µs per loop (mean ± std. dev. of 7 runs, 1000 loops each)\n"
     ]
    }
   ],
   "source": [
    "%%timeit\n",
    "condition = ((df_vector['time_in_bed'] > 1\n",
    "              ) & (df_vector['percent_sleeping'] > 0.1)\n",
    "             ) | (df_vector['age'] >= 90)\n",
    "\n",
    "df_vector['reward'] = df_vector['hate_food']\n",
    "df_vector.loc[condition, 'reward'] = df_vector['favorite_food']"
   ]
  },
  {
   "cell_type": "code",
   "execution_count": 10,
   "id": "6b78796a-ec48-4894-97b6-5f947c8bbc49",
   "metadata": {},
   "outputs": [
    {
     "data": {
      "text/html": [
       "<div>\n",
       "<style scoped>\n",
       "    .dataframe tbody tr th:only-of-type {\n",
       "        vertical-align: middle;\n",
       "    }\n",
       "\n",
       "    .dataframe tbody tr th {\n",
       "        vertical-align: top;\n",
       "    }\n",
       "\n",
       "    .dataframe thead th {\n",
       "        text-align: right;\n",
       "    }\n",
       "</style>\n",
       "<table border=\"1\" class=\"dataframe\">\n",
       "  <thead>\n",
       "    <tr style=\"text-align: right;\">\n",
       "      <th></th>\n",
       "      <th>age</th>\n",
       "      <th>time_in_bed</th>\n",
       "      <th>percent_sleeping</th>\n",
       "      <th>favorite_food</th>\n",
       "      <th>hate_food</th>\n",
       "      <th>reward</th>\n",
       "    </tr>\n",
       "  </thead>\n",
       "  <tbody>\n",
       "    <tr>\n",
       "      <th>0</th>\n",
       "      <td>73</td>\n",
       "      <td>2</td>\n",
       "      <td>0.297605</td>\n",
       "      <td>+tacos</td>\n",
       "      <td>-broccoli</td>\n",
       "      <td>+tacos</td>\n",
       "    </tr>\n",
       "    <tr>\n",
       "      <th>1</th>\n",
       "      <td>54</td>\n",
       "      <td>5</td>\n",
       "      <td>0.310736</td>\n",
       "      <td>+ice-cream</td>\n",
       "      <td>-potato</td>\n",
       "      <td>+ice-cream</td>\n",
       "    </tr>\n",
       "    <tr>\n",
       "      <th>2</th>\n",
       "      <td>61</td>\n",
       "      <td>4</td>\n",
       "      <td>0.700914</td>\n",
       "      <td>+pizza</td>\n",
       "      <td>-eggs</td>\n",
       "      <td>+pizza</td>\n",
       "    </tr>\n",
       "    <tr>\n",
       "      <th>3</th>\n",
       "      <td>99</td>\n",
       "      <td>4</td>\n",
       "      <td>0.327881</td>\n",
       "      <td>+tacos</td>\n",
       "      <td>-potato</td>\n",
       "      <td>+tacos</td>\n",
       "    </tr>\n",
       "    <tr>\n",
       "      <th>4</th>\n",
       "      <td>52</td>\n",
       "      <td>5</td>\n",
       "      <td>0.641889</td>\n",
       "      <td>+ice-cream</td>\n",
       "      <td>-potato</td>\n",
       "      <td>+ice-cream</td>\n",
       "    </tr>\n",
       "  </tbody>\n",
       "</table>\n",
       "</div>"
      ],
      "text/plain": [
       "   age  time_in_bed  percent_sleeping favorite_food  hate_food      reward\n",
       "0   73            2          0.297605        +tacos  -broccoli      +tacos\n",
       "1   54            5          0.310736    +ice-cream    -potato  +ice-cream\n",
       "2   61            4          0.700914        +pizza      -eggs      +pizza\n",
       "3   99            4          0.327881        +tacos    -potato      +tacos\n",
       "4   52            5          0.641889    +ice-cream    -potato  +ice-cream"
      ]
     },
     "execution_count": 10,
     "metadata": {},
     "output_type": "execute_result"
    }
   ],
   "source": [
    "df_vector.head()"
   ]
  },
  {
   "cell_type": "markdown",
   "id": "d27a8d44-7289-485d-afed-994867e0c88f",
   "metadata": {},
   "source": [
    "## Compare the time needed for each solution\n",
    "\n",
    "Depending on the `size` of the DataFrame (of the order of thousands or of tens of thousands), the vectorization is hundreds or thousands times faster than looping."
   ]
  },
  {
   "cell_type": "markdown",
   "id": "48f0d122-7fd7-4efe-b3fc-442eba8a9b3d",
   "metadata": {},
   "source": [
    "## Check if the two DataFrames are equal"
   ]
  },
  {
   "cell_type": "code",
   "execution_count": 11,
   "id": "423b15c7-db17-4598-9e83-265208130dec",
   "metadata": {},
   "outputs": [
    {
     "name": "stdout",
     "output_type": "stream",
     "text": [
      "Are the two DataFrames equal?  True\n"
     ]
    }
   ],
   "source": [
    "print(\"Are the two DataFrames equal? \", df_loop.equals(df_vector))"
   ]
  }
 ],
 "metadata": {
  "kernelspec": {
   "display_name": "Python 3 (ipykernel)",
   "language": "python",
   "name": "python3"
  },
  "language_info": {
   "codemirror_mode": {
    "name": "ipython",
    "version": 3
   },
   "file_extension": ".py",
   "mimetype": "text/x-python",
   "name": "python",
   "nbconvert_exporter": "python",
   "pygments_lexer": "ipython3",
   "version": "3.9.7"
  },
  "toc-autonumbering": true
 },
 "nbformat": 4,
 "nbformat_minor": 5
}
